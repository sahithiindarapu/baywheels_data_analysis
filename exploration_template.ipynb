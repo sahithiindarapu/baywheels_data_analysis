{
 "cells": [
  {
   "cell_type": "markdown",
   "metadata": {},
   "source": [
    "# (Dataset Exploration Title)\n",
    "## by (your name here)\n",
    "\n",
    "## Preliminary Wrangling\n",
    "\n",
    "> Briefly introduce your dataset here."
   ]
  },
  {
   "cell_type": "code",
   "execution_count": 10,
   "metadata": {},
   "outputs": [],
   "source": [
    "# import all packages and set plots to be embedded inline\n",
    "import numpy as np\n",
    "import pandas as pd\n",
    "import matplotlib.pyplot as plt\n",
    "import seaborn as sb\n",
    "\n",
    "from zipfile import ZipFile\n",
    "import glob\n",
    "import os\n",
    "import math\n",
    "\n",
    "%matplotlib inline"
   ]
  },
  {
   "cell_type": "markdown",
   "metadata": {},
   "source": [
    "> Load in your dataset and describe its properties through the questions below.\n",
    "Try and motivate your exploration goals through this section."
   ]
  },
  {
   "cell_type": "code",
   "execution_count": 2,
   "metadata": {},
   "outputs": [],
   "source": [
    "raw_data = \"raw_data\"\n",
    "raw_data_zip = \"012017_012020.csv.zip\""
   ]
  },
  {
   "cell_type": "code",
   "execution_count": null,
   "metadata": {},
   "outputs": [],
   "source": [
    "with ZipFile(raw_data_zip, 'r') as z:\n",
    "    z.extractall(raw_data)"
   ]
  },
  {
   "cell_type": "code",
   "execution_count": 3,
   "metadata": {},
   "outputs": [],
   "source": [
    "# Read all csv files in the data directory.\n",
    "all_files = glob.glob(os.path.join(raw_data, \"*.csv\"))\n",
    "\n",
    "# Explictly mention column data types to suppress low memory warnings caused by pandas guessing the dtype.\n",
    "# See https://stackoverflow.com/questions/24251219/pandas-read-csv-low-memory-and-dtype-options\n",
    "dtypes={'user_type': str, 'bike_share_for_all_trip': str, 'rental_access_method': str}\n",
    "\n",
    "# Pass sort=False to concat method to adhere to future behavior and suppress deperecation warnings\n",
    "# See https://stackoverflow.com/questions/50501787/python-pandas-user-warning-sorting-because-non-concatenation-axis-is-not-aligne\n",
    "raw_df = pd.concat((pd.read_csv(f, dtype=dtypes) for f in all_files), ignore_index = True, sort=False)"
   ]
  },
  {
   "cell_type": "code",
   "execution_count": 4,
   "metadata": {},
   "outputs": [
    {
     "name": "stdout",
     "output_type": "stream",
     "text": [
      "<class 'pandas.core.frame.DataFrame'>\n",
      "RangeIndex: 4666558 entries, 0 to 4666557\n",
      "Data columns (total 15 columns):\n",
      "duration_sec               4666558 non-null int64\n",
      "start_time                 4666558 non-null object\n",
      "end_time                   4666558 non-null object\n",
      "start_station_id           4424485 non-null float64\n",
      "start_station_name         4425666 non-null object\n",
      "start_station_latitude     4666558 non-null float64\n",
      "start_station_longitude    4666558 non-null float64\n",
      "end_station_id             4421965 non-null float64\n",
      "end_station_name           4423094 non-null object\n",
      "end_station_latitude       4666558 non-null float64\n",
      "end_station_longitude      4666558 non-null float64\n",
      "bike_id                    4666558 non-null int64\n",
      "user_type                  4666558 non-null object\n",
      "bike_share_for_all_trip    4359974 non-null object\n",
      "rental_access_method       306584 non-null object\n",
      "dtypes: float64(6), int64(2), object(7)\n",
      "memory usage: 534.0+ MB\n"
     ]
    }
   ],
   "source": [
    "raw_df.info(verbose=True, null_counts=True)"
   ]
  },
  {
   "cell_type": "markdown",
   "metadata": {},
   "source": [
    "### What is the structure of your dataset?\n",
    "\n",
    "> Your answer here!\n",
    "\n",
    "### What is/are the main feature(s) of interest in your dataset?\n",
    "\n",
    "> Your answer here!\n",
    "\n",
    "### What features in the dataset do you think will help support your investigation into your feature(s) of interest?\n",
    "\n",
    "> Your answer here!"
   ]
  },
  {
   "cell_type": "code",
   "execution_count": null,
   "metadata": {},
   "outputs": [],
   "source": [
    "raw_df.isnull().sum()"
   ]
  },
  {
   "cell_type": "code",
   "execution_count": null,
   "metadata": {},
   "outputs": [],
   "source": [
    "df.duration_sec.max()"
   ]
  },
  {
   "cell_type": "markdown",
   "metadata": {},
   "source": [
    "### Cleaning \n",
    "\n",
    "Following cleaning operations can be performed on this dataset\n",
    "\n",
    "#### Quality Issues\n",
    "1. We can choose to make `bike_id`, `start_station_id`, and `end_station_id` as object type instead of numerical types.\n",
    "2. We can format the `start_time` and `end_time` as datetime format.\n",
    "3. `user_type`, `rental_access_method` and `bike_share_for_all_trip` can be marked as categorical data types.\n",
    "4. We can drop the rows where `start_station_id`, `start_station_name`, `end_station_id`, and `end_station_name` are null but since none of these are critical for analysis we can retain the rows with missing values.\n",
    "\n",
    "#### Tidy up\n",
    "1. Instead of having a `duration_sec` column, we can round up the seconds to create a `duration_min` column. This is also more accurate since GoBike platform bills the users by number of minutes used.\n",
    "2. This is not exactly tidying up but we can introduce new columns for year, month, weekday, and hour by parsing the `start_time` as these can be used in analysis."
   ]
  },
  {
   "cell_type": "code",
   "execution_count": 5,
   "metadata": {},
   "outputs": [],
   "source": [
    "# Copy the dataframe for checkpointing\n",
    "df = raw_df.copy()"
   ]
  },
  {
   "cell_type": "markdown",
   "metadata": {},
   "source": [
    "##### Mark `bike_id`, `start_station_id`, and `end_station_id` as object type"
   ]
  },
  {
   "cell_type": "code",
   "execution_count": 6,
   "metadata": {},
   "outputs": [
    {
     "name": "stdout",
     "output_type": "stream",
     "text": [
      "<class 'pandas.core.frame.DataFrame'>\n",
      "RangeIndex: 4666558 entries, 0 to 4666557\n",
      "Data columns (total 15 columns):\n",
      "duration_sec               int64\n",
      "start_time                 object\n",
      "end_time                   object\n",
      "start_station_id           object\n",
      "start_station_name         object\n",
      "start_station_latitude     float64\n",
      "start_station_longitude    float64\n",
      "end_station_id             object\n",
      "end_station_name           object\n",
      "end_station_latitude       float64\n",
      "end_station_longitude      float64\n",
      "bike_id                    object\n",
      "user_type                  object\n",
      "bike_share_for_all_trip    object\n",
      "rental_access_method       object\n",
      "dtypes: float64(4), int64(1), object(10)\n",
      "memory usage: 534.0+ MB\n"
     ]
    }
   ],
   "source": [
    "# Code\n",
    "df.bike_id = df.bike_id.astype(object)\n",
    "df.start_station_id = df.start_station_id.astype(object)\n",
    "df.end_station_id = df.end_station_id.astype(object)\n",
    "\n",
    "# Test \n",
    "df.info()"
   ]
  },
  {
   "cell_type": "markdown",
   "metadata": {},
   "source": [
    "##### Format `start_time` and `end_time` as datetime"
   ]
  },
  {
   "cell_type": "code",
   "execution_count": 7,
   "metadata": {},
   "outputs": [
    {
     "name": "stdout",
     "output_type": "stream",
     "text": [
      "<class 'pandas.core.frame.DataFrame'>\n",
      "RangeIndex: 4666558 entries, 0 to 4666557\n",
      "Data columns (total 15 columns):\n",
      "duration_sec               int64\n",
      "start_time                 datetime64[ns]\n",
      "end_time                   datetime64[ns]\n",
      "start_station_id           object\n",
      "start_station_name         object\n",
      "start_station_latitude     float64\n",
      "start_station_longitude    float64\n",
      "end_station_id             object\n",
      "end_station_name           object\n",
      "end_station_latitude       float64\n",
      "end_station_longitude      float64\n",
      "bike_id                    object\n",
      "user_type                  object\n",
      "bike_share_for_all_trip    object\n",
      "rental_access_method       object\n",
      "dtypes: datetime64[ns](2), float64(4), int64(1), object(8)\n",
      "memory usage: 534.0+ MB\n"
     ]
    }
   ],
   "source": [
    "# Code\n",
    "df.start_time = pd.to_datetime(df.start_time)\n",
    "df.end_time = pd.to_datetime(df.end_time)\n",
    "\n",
    "# Test\n",
    "df.info()"
   ]
  },
  {
   "cell_type": "markdown",
   "metadata": {},
   "source": [
    "##### Mark `user_type`, `rental_access_method` and `bike_share_for_all_trip` as categorical data types"
   ]
  },
  {
   "cell_type": "code",
   "execution_count": 8,
   "metadata": {},
   "outputs": [
    {
     "name": "stdout",
     "output_type": "stream",
     "text": [
      "<class 'pandas.core.frame.DataFrame'>\n",
      "RangeIndex: 4666558 entries, 0 to 4666557\n",
      "Data columns (total 15 columns):\n",
      "duration_sec               int64\n",
      "start_time                 datetime64[ns]\n",
      "end_time                   datetime64[ns]\n",
      "start_station_id           object\n",
      "start_station_name         object\n",
      "start_station_latitude     float64\n",
      "start_station_longitude    float64\n",
      "end_station_id             object\n",
      "end_station_name           object\n",
      "end_station_latitude       float64\n",
      "end_station_longitude      float64\n",
      "bike_id                    object\n",
      "user_type                  category\n",
      "bike_share_for_all_trip    category\n",
      "rental_access_method       category\n",
      "dtypes: category(3), datetime64[ns](2), float64(4), int64(1), object(5)\n",
      "memory usage: 440.6+ MB\n"
     ]
    }
   ],
   "source": [
    "# Code\n",
    "df.user_type = df.user_type.astype(\"category\")\n",
    "df.rental_access_method = df.rental_access_method.astype(\"category\")\n",
    "df.bike_share_for_all_trip = df.bike_share_for_all_trip.astype(\"category\")\n",
    "\n",
    "# Test\n",
    "df.info()"
   ]
  },
  {
   "cell_type": "markdown",
   "metadata": {},
   "source": [
    "#### Tidying up\n",
    "\n",
    "##### Add a `duration_min` column from `duration_sec` column"
   ]
  },
  {
   "cell_type": "code",
   "execution_count": 12,
   "metadata": {},
   "outputs": [
    {
     "name": "stdout",
     "output_type": "stream",
     "text": [
      "<class 'pandas.core.frame.DataFrame'>\n",
      "RangeIndex: 4666558 entries, 0 to 4666557\n",
      "Data columns (total 16 columns):\n",
      "duration_sec               int64\n",
      "start_time                 datetime64[ns]\n",
      "end_time                   datetime64[ns]\n",
      "start_station_id           object\n",
      "start_station_name         object\n",
      "start_station_latitude     float64\n",
      "start_station_longitude    float64\n",
      "end_station_id             object\n",
      "end_station_name           object\n",
      "end_station_latitude       float64\n",
      "end_station_longitude      float64\n",
      "bike_id                    object\n",
      "user_type                  category\n",
      "bike_share_for_all_trip    category\n",
      "rental_access_method       category\n",
      "duration_min               int64\n",
      "dtypes: category(3), datetime64[ns](2), float64(4), int64(2), object(5)\n",
      "memory usage: 476.2+ MB\n"
     ]
    }
   ],
   "source": [
    "# Code\n",
    "df['duration_min'] = df.duration_sec.map(lambda x: math.ceil(x/60))\n",
    "\n",
    "# Test\n",
    "df.info()"
   ]
  },
  {
   "cell_type": "markdown",
   "metadata": {},
   "source": [
    "##### Add `year`, `month`, and `weekday` columns for each ride"
   ]
  },
  {
   "cell_type": "code",
   "execution_count": 13,
   "metadata": {},
   "outputs": [],
   "source": [
    "# See https://strftime.org/ for formatting reference\n",
    "df['ride_year'] = df.start_time.map(lambda x: x.strftime('%Y'))\n",
    "df['ride_month'] = df.start_time.map(lambda x: x.strftime('%b'))\n",
    "df['ride_weekday'] = df.start_time.map(lambda x: x.strftime('%a'))\n",
    "df['ride_hour'] = df.start_time.map(lambda x: x.strftime('%H'))"
   ]
  },
  {
   "cell_type": "code",
   "execution_count": 15,
   "metadata": {},
   "outputs": [
    {
     "name": "stdout",
     "output_type": "stream",
     "text": [
      "[2019, 2018, 2020]\n",
      "Categories (3, object): [2019, 2018, 2020]\n",
      "[Dec, Apr, Nov, Jan, Oct, ..., Sep, Aug, Mar, Feb, May]\n",
      "Length: 12\n",
      "Categories (12, object): [Dec, Apr, Nov, Jan, ..., Aug, Mar, Feb, May]\n",
      "[Tue, Mon, Sun, Sat, Fri, Thu, Wed]\n",
      "Categories (7, object): [Tue, Mon, Sun, Sat, Fri, Thu, Wed]\n",
      "[14, 21, 23, 22, 20, ..., 06, 05, 03, 04, 02]\n",
      "Length: 24\n",
      "Categories (24, object): [14, 21, 23, 22, ..., 05, 03, 04, 02]\n",
      "<class 'pandas.core.frame.DataFrame'>\n",
      "RangeIndex: 4666558 entries, 0 to 4666557\n",
      "Data columns (total 20 columns):\n",
      "duration_sec               int64\n",
      "start_time                 datetime64[ns]\n",
      "end_time                   datetime64[ns]\n",
      "start_station_id           object\n",
      "start_station_name         object\n",
      "start_station_latitude     float64\n",
      "start_station_longitude    float64\n",
      "end_station_id             object\n",
      "end_station_name           object\n",
      "end_station_latitude       float64\n",
      "end_station_longitude      float64\n",
      "bike_id                    object\n",
      "user_type                  category\n",
      "bike_share_for_all_trip    category\n",
      "rental_access_method       category\n",
      "duration_min               int64\n",
      "ride_year                  category\n",
      "ride_month                 category\n",
      "ride_weekday               category\n",
      "ride_hour                  category\n",
      "dtypes: category(7), datetime64[ns](2), float64(4), int64(2), object(5)\n",
      "memory usage: 494.0+ MB\n"
     ]
    }
   ],
   "source": [
    "# Mark month and weekday as category variable\n",
    "df.ride_year = df.ride_year.astype('category')\n",
    "df.ride_month = df.ride_month.astype('category')\n",
    "df.ride_weekday = df.ride_weekday.astype('category')\n",
    "df.ride_hour = df.ride_hour.astype('category')\n",
    "\n",
    "# Test\n",
    "print(df.ride_year.unique())\n",
    "print(df.ride_month.unique())\n",
    "print(df.ride_weekday.unique())\n",
    "print(df.ride_hour.unique())\n",
    "\n",
    "df.info()"
   ]
  },
  {
   "cell_type": "code",
   "execution_count": null,
   "metadata": {},
   "outputs": [],
   "source": []
  },
  {
   "cell_type": "markdown",
   "metadata": {},
   "source": [
    "## Univariate Exploration\n",
    "\n",
    "> In this section, investigate distributions of individual variables. If\n",
    "you see unusual points or outliers, take a deeper look to clean things up\n",
    "and prepare yourself to look at relationships between variables."
   ]
  },
  {
   "cell_type": "code",
   "execution_count": null,
   "metadata": {},
   "outputs": [],
   "source": []
  },
  {
   "cell_type": "markdown",
   "metadata": {},
   "source": [
    "> Make sure that, after every plot or related series of plots, that you\n",
    "include a Markdown cell with comments about what you observed, and what\n",
    "you plan on investigating next."
   ]
  },
  {
   "cell_type": "code",
   "execution_count": null,
   "metadata": {},
   "outputs": [],
   "source": []
  },
  {
   "cell_type": "markdown",
   "metadata": {},
   "source": [
    "### Discuss the distribution(s) of your variable(s) of interest. Were there any unusual points? Did you need to perform any transformations?\n",
    "\n",
    "> Your answer here!\n",
    "\n",
    "### Of the features you investigated, were there any unusual distributions? Did you perform any operations on the data to tidy, adjust, or change the form of the data? If so, why did you do this?\n",
    "\n",
    "> Your answer here!"
   ]
  },
  {
   "cell_type": "markdown",
   "metadata": {},
   "source": [
    "## Bivariate Exploration\n",
    "\n",
    "> In this section, investigate relationships between pairs of variables in your\n",
    "data. Make sure the variables that you cover here have been introduced in some\n",
    "fashion in the previous section (univariate exploration)."
   ]
  },
  {
   "cell_type": "code",
   "execution_count": null,
   "metadata": {},
   "outputs": [],
   "source": []
  },
  {
   "cell_type": "markdown",
   "metadata": {},
   "source": [
    "### Talk about some of the relationships you observed in this part of the investigation. How did the feature(s) of interest vary with other features in the dataset?\n",
    "\n",
    "> Your answer here!\n",
    "\n",
    "### Did you observe any interesting relationships between the other features (not the main feature(s) of interest)?\n",
    "\n",
    "> Your answer here!"
   ]
  },
  {
   "cell_type": "markdown",
   "metadata": {},
   "source": [
    "## Multivariate Exploration\n",
    "\n",
    "> Create plots of three or more variables to investigate your data even\n",
    "further. Make sure that your investigations are justified, and follow from\n",
    "your work in the previous sections."
   ]
  },
  {
   "cell_type": "code",
   "execution_count": null,
   "metadata": {},
   "outputs": [],
   "source": []
  },
  {
   "cell_type": "markdown",
   "metadata": {},
   "source": [
    "### Talk about some of the relationships you observed in this part of the investigation. Were there features that strengthened each other in terms of looking at your feature(s) of interest?\n",
    "\n",
    "> Your answer here!\n",
    "\n",
    "### Were there any interesting or surprising interactions between features?\n",
    "\n",
    "> Your answer here!"
   ]
  },
  {
   "cell_type": "markdown",
   "metadata": {},
   "source": [
    "> At the end of your report, make sure that you export the notebook as an\n",
    "html file from the `File > Download as... > HTML` menu. Make sure you keep\n",
    "track of where the exported file goes, so you can put it in the same folder\n",
    "as this notebook for project submission. Also, make sure you remove all of\n",
    "the quote-formatted guide notes like this one before you finish your report!"
   ]
  },
  {
   "cell_type": "code",
   "execution_count": null,
   "metadata": {},
   "outputs": [],
   "source": []
  }
 ],
 "metadata": {
  "kernelspec": {
   "display_name": "Python 3",
   "language": "python",
   "name": "python3"
  },
  "language_info": {
   "codemirror_mode": {
    "name": "ipython",
    "version": 3
   },
   "file_extension": ".py",
   "mimetype": "text/x-python",
   "name": "python",
   "nbconvert_exporter": "python",
   "pygments_lexer": "ipython3",
   "version": "3.6.3"
  }
 },
 "nbformat": 4,
 "nbformat_minor": 2
}
