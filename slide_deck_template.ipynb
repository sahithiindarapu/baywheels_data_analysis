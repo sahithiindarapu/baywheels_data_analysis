{
 "cells": [
  {
   "cell_type": "markdown",
   "metadata": {
    "slideshow": {
     "slide_type": "slide"
    }
   },
   "source": [
    "# Baywheels Ride data findings\n",
    "\n",
    "## by Sahithi Indarapu\n",
    "\n",
    "Dataset : https://www.lyft.com/bikes/bay-wheels/system-data"
   ]
  },
  {
   "cell_type": "markdown",
   "metadata": {
    "slideshow": {
     "slide_type": "slide"
    }
   },
   "source": [
    "## Investigation Overview\n",
    "\n",
    "My goals for this investigation were to understand how various factors affect the ride counts and to discover concrete patterns that help drive business decisions. I also wanted to find out what are good trends (and what are not) with the riders.\n",
    "\n",
    "## Dataset Overview\n",
    "\n",
    "FordGo bike data as the name suggests is a bike ride data. The data is pretty descriptive and easy to understand. This specific jupyter notebook here is dealing with bike sharing data from 2017 to 2019. The data collected here is informative sparing few missing values. The project here follows all the four steps of data analysis process where the data is gathered, cleaned (quality and tidyness), lastly analyzed and visualised. The dataset has below columns :\n",
    "\n",
    "- Trip Duration (seconds)\n",
    "- Start Time and Date\n",
    "- End Time and Date\n",
    "- Start Station ID\n",
    "- Start Station Name\n",
    "- Start Station Latitude\n",
    "- Start Station Longitude\n",
    "- End Station ID\n",
    "- End Station Name\n",
    "- End Station Latitude\n",
    "- End Station Longitude\n",
    "- Bike ID\n",
    "\n",
    "I added few more columns to the above original dataset to make analysis easier such as extracting year, month, weekday from the start date."
   ]
  },
  {
   "cell_type": "code",
   "execution_count": 1,
   "metadata": {
    "slideshow": {
     "slide_type": "skip"
    }
   },
   "outputs": [],
   "source": [
    "# import all packages and set plots to be embedded inline\n",
    "import numpy as np\n",
    "import pandas as pd\n",
    "import matplotlib.pyplot as plt\n",
    "import seaborn as sb\n",
    "\n",
    "%matplotlib inline\n",
    "\n",
    "# suppress warnings from final output\n",
    "import warnings\n",
    "warnings.simplefilter(\"ignore\")"
   ]
  },
  {
   "cell_type": "code",
   "execution_count": 3,
   "metadata": {
    "slideshow": {
     "slide_type": "skip"
    }
   },
   "outputs": [
    {
     "data": {
      "text/html": [
       "<div>\n",
       "<style scoped>\n",
       "    .dataframe tbody tr th:only-of-type {\n",
       "        vertical-align: middle;\n",
       "    }\n",
       "\n",
       "    .dataframe tbody tr th {\n",
       "        vertical-align: top;\n",
       "    }\n",
       "\n",
       "    .dataframe thead th {\n",
       "        text-align: right;\n",
       "    }\n",
       "</style>\n",
       "<table border=\"1\" class=\"dataframe\">\n",
       "  <thead>\n",
       "    <tr style=\"text-align: right;\">\n",
       "      <th></th>\n",
       "      <th>duration_sec</th>\n",
       "      <th>start_time</th>\n",
       "      <th>bike_id</th>\n",
       "      <th>user_type</th>\n",
       "      <th>bike_share_for_all_trip</th>\n",
       "      <th>rental_access_method</th>\n",
       "      <th>duration_min</th>\n",
       "      <th>ride_year</th>\n",
       "      <th>ride_month</th>\n",
       "      <th>ride_weekday</th>\n",
       "      <th>ride_hour</th>\n",
       "    </tr>\n",
       "  </thead>\n",
       "  <tbody>\n",
       "    <tr>\n",
       "      <th>3703206</th>\n",
       "      <td>1539</td>\n",
       "      <td>2020-01-28 17:38:57</td>\n",
       "      <td>242339</td>\n",
       "      <td>Subscriber</td>\n",
       "      <td>NaN</td>\n",
       "      <td>app</td>\n",
       "      <td>26</td>\n",
       "      <td>2020</td>\n",
       "      <td>Jan</td>\n",
       "      <td>Tue</td>\n",
       "      <td>17</td>\n",
       "    </tr>\n",
       "    <tr>\n",
       "      <th>1244968</th>\n",
       "      <td>6109</td>\n",
       "      <td>2017-09-10 20:34:52.069</td>\n",
       "      <td>2126</td>\n",
       "      <td>Customer</td>\n",
       "      <td>NaN</td>\n",
       "      <td>NaN</td>\n",
       "      <td>102</td>\n",
       "      <td>2017</td>\n",
       "      <td>Sep</td>\n",
       "      <td>Sun</td>\n",
       "      <td>20</td>\n",
       "    </tr>\n",
       "    <tr>\n",
       "      <th>218367</th>\n",
       "      <td>5598</td>\n",
       "      <td>2019-09-16 12:38:15.241</td>\n",
       "      <td>2834</td>\n",
       "      <td>Subscriber</td>\n",
       "      <td>Yes</td>\n",
       "      <td>NaN</td>\n",
       "      <td>94</td>\n",
       "      <td>2019</td>\n",
       "      <td>Sep</td>\n",
       "      <td>Mon</td>\n",
       "      <td>12</td>\n",
       "    </tr>\n",
       "    <tr>\n",
       "      <th>43078</th>\n",
       "      <td>310</td>\n",
       "      <td>2018-02-16 05:10:52.867</td>\n",
       "      <td>2707</td>\n",
       "      <td>Subscriber</td>\n",
       "      <td>Yes</td>\n",
       "      <td>NaN</td>\n",
       "      <td>6</td>\n",
       "      <td>2018</td>\n",
       "      <td>Feb</td>\n",
       "      <td>Fri</td>\n",
       "      <td>5</td>\n",
       "    </tr>\n",
       "    <tr>\n",
       "      <th>2182207</th>\n",
       "      <td>158</td>\n",
       "      <td>2019-06-19 22:42:50.581</td>\n",
       "      <td>501</td>\n",
       "      <td>Subscriber</td>\n",
       "      <td>No</td>\n",
       "      <td>NaN</td>\n",
       "      <td>3</td>\n",
       "      <td>2019</td>\n",
       "      <td>Jun</td>\n",
       "      <td>Wed</td>\n",
       "      <td>22</td>\n",
       "    </tr>\n",
       "  </tbody>\n",
       "</table>\n",
       "</div>"
      ],
      "text/plain": [
       "         duration_sec               start_time  bike_id   user_type  \\\n",
       "3703206          1539      2020-01-28 17:38:57   242339  Subscriber   \n",
       "1244968          6109  2017-09-10 20:34:52.069     2126    Customer   \n",
       "218367           5598  2019-09-16 12:38:15.241     2834  Subscriber   \n",
       "43078             310  2018-02-16 05:10:52.867     2707  Subscriber   \n",
       "2182207           158  2019-06-19 22:42:50.581      501  Subscriber   \n",
       "\n",
       "        bike_share_for_all_trip rental_access_method  duration_min  ride_year  \\\n",
       "3703206                     NaN                  app            26       2020   \n",
       "1244968                     NaN                  NaN           102       2017   \n",
       "218367                      Yes                  NaN            94       2019   \n",
       "43078                       Yes                  NaN             6       2018   \n",
       "2182207                      No                  NaN             3       2019   \n",
       "\n",
       "        ride_month ride_weekday  ride_hour  \n",
       "3703206        Jan          Tue         17  \n",
       "1244968        Sep          Sun         20  \n",
       "218367         Sep          Mon         12  \n",
       "43078          Feb          Fri          5  \n",
       "2182207        Jun          Wed         22  "
      ]
     },
     "execution_count": 3,
     "metadata": {},
     "output_type": "execute_result"
    }
   ],
   "source": [
    "df = pd.read_csv(\"baywheels_clean.csv\")\n",
    "df.sample(5)"
   ]
  },
  {
   "cell_type": "code",
   "execution_count": 6,
   "metadata": {
    "slideshow": {
     "slide_type": "skip"
    }
   },
   "outputs": [],
   "source": [
    "# mark category variables\n",
    "\n",
    "sorted_months = [\"Jan\", \"Feb\", \"Mar\", \"Apr\", \"May\", \"Jun\", \"Jul\", \"Aug\", \"Sep\", \"Oct\", \"Nov\", \"Dec\"]\n",
    "sorted_weekdays = [\"Mon\", \"Tue\", \"Wed\", \"Thu\", \"Fri\", \"Sat\", \"Sun\"]\n",
    "\n",
    "cat_months = pd.api.types.CategoricalDtype(categories=sorted_months, ordered=True)\n",
    "cat_weekdays = pd.api.types.CategoricalDtype(categories=sorted_weekdays, ordered=True)\n",
    "\n",
    "# Mark month and weekday as category variable\n",
    "df.ride_year = df.ride_year.astype('category')\n",
    "df.ride_month = df.ride_month.astype(cat_months)\n",
    "df.ride_weekday = df.ride_weekday.astype(cat_weekdays)\n",
    "df.ride_hour = df.ride_hour.astype('category')\n"
   ]
  },
  {
   "cell_type": "markdown",
   "metadata": {
    "slideshow": {
     "slide_type": "slide"
    }
   },
   "source": [
    "\n",
    "## Ride duration frequency\n",
    "\n",
    "Since Baywheels bills the rides by minutes, it makes sense to perform analysis on what are the highest durations people use a single ride for. Looking at the graph, it can be clearly seen that ~4M rides are less than 15 minutes. Since the number of rides decreased exponentially as the duration increases, I had to plot the data on a logarthmic scale. This graph shows that:\n",
    "\n",
    "- Out of 5.2M rides, close to 4M are from rides less than 15minutes and nearly 1M are between 15mins to 30mins duration.\n",
    "- There are some considerable amount of rides that span up to 8h which makes sense because people might be using the bike for entire day (8 hours). The graph consistently steeps up to 8h mark.\n",
    "- After 9h mark, the graph nearly flattens out with no significant decrease. This may be interesting and it can be used to perhaps do some more deeper user based analysis and baywheels can use the user data from these rides for some targetted promotions."
   ]
  },
  {
   "cell_type": "code",
   "execution_count": 9,
   "metadata": {
    "slideshow": {
     "slide_type": "subslide"
    }
   },
   "outputs": [
    {
     "data": {
      "image/png": "[encoded data removed]",
      "text/plain": [
       "<Figure size 1440x1008 with 1 Axes>"
      ]
     },
     "metadata": {
      "needs_background": "light"
     },
     "output_type": "display_data"
    }
   ],
   "source": [
    "less_than_a_day = df.query('duration_min < 24 * 60').duration_min # There are only two rides that are greater than 24h\n",
    "plt.figure(figsize=(20,14))\n",
    "yticks = [ 250, 500, 1000, 2000, 3000, 6000, 15000, 30000, 40000, 150000, 1000000, 4000000]\n",
    "ylabels = [ 250, 500, \"1K\", \"2K\", \"3K\", \"6K\", \"15K\", \"30K\", \"40K\", \"150K\", \"1M\", \"4M\"]\n",
    "\n",
    "xticks = [ 0, 15, 30, 45, 60, 90 ]\n",
    "xticks.extend([*range(120, 1500, 60)])\n",
    "\n",
    "def fmtxlabel(l):\n",
    "    if l <= 90:\n",
    "        return \"{}m\".format(l)\n",
    "    else:\n",
    "        return \"{}h\".format(int(l/60))\n",
    "\n",
    "xlabels = list(map(lambda x : fmtxlabel(x), xticks))\n",
    "plt.hist(less_than_a_day, bins = xticks, rwidth = 0.65)\n",
    "plt.yscale('log')\n",
    "plt.yticks(yticks, labels = ylabels);\n",
    "plt.xticks(xticks, labels = xlabels, rotation=80)\n",
    "plt.xlabel(\"Ride Duration\")\n",
    "plt.ylabel(\"Ride Count\")\n",
    "plt.title(\"Ride Duration Frequency\", fontsize = 16, fontweight = 'bold');"
   ]
  },
  {
   "cell_type": "markdown",
   "metadata": {
    "collapsed": true,
    "slideshow": {
     "slide_type": "slide"
    }
   },
   "source": [
    "## Duration(in mins) by user type (Bivariate)\n",
    "\n",
    "Looking at the these box plots, it is clear that customers usually keep the bike for longer durations compared to the subscribers. This can be used to target marketing based on ride duration between subscribers and customers differently. The median for subscriber rides is around 10mins whereas the median for customer rides is around 15 minutes. There are a lot of outliers in the graph which echoes the previous graph that most rides are less than 30 minutes."
   ]
  },
  {
   "cell_type": "code",
   "execution_count": 8,
   "metadata": {
    "slideshow": {
     "slide_type": "subslide"
    }
   },
   "outputs": [
    {
     "data": {
      "text/plain": [
       "<Figure size 864x864 with 0 Axes>"
      ]
     },
     "metadata": {},
     "output_type": "display_data"
    },
    {
     "data": {
      "image/png": "[encoded data removed]",
      "text/plain": [
       "<Figure size 720x360 with 2 Axes>"
      ]
     },
     "metadata": {
      "needs_background": "light"
     },
     "output_type": "display_data"
    }
   ],
   "source": [
    "# 60mins is reasonable because nearly 90% of the rides are in < 30mins category.\n",
    "less_than_hour = df.query('duration_min < 60')\n",
    "\n",
    "plt.figure(figsize=(12,12));\n",
    "boxplot = sb.catplot(kind = 'box', data = less_than_hour, y = 'duration_min', col = 'user_type')\n",
    "boxplot.set_axis_labels(\"\", \"Duration in minutes\")\n",
    "boxplot.fig.suptitle(\"Baywheels - Duration (in mins) Vs User Type\", y = 1.1, fontweight = 'bold')\n",
    "boxplot.set_titles(col_template = '{col_name}');"
   ]
  },
  {
   "cell_type": "markdown",
   "metadata": {
    "slideshow": {
     "slide_type": "slide"
    }
   },
   "source": [
    "## Heatmap for Customer & Subscriber weekday rides by hour of the day. (Multivariate)\n",
    "\n",
    "Following deductions from heatmaps:\n",
    "\n",
    "- Customers and Subscribers peak during the commute hours on weekdays\n",
    "- Customer rides increase during weekends and Subscriber rides decrease during weekends\n",
    "- On the weekends, Customer rides spike around noon-ish and the heatmap is generally denser throughout the day.\n",
    "- Irrespective of user type, there are very less rides during off hours (11 PM to 5 AM) generally."
   ]
  },
  {
   "cell_type": "code",
   "execution_count": 7,
   "metadata": {
    "slideshow": {
     "slide_type": "subslide"
    }
   },
   "outputs": [
    {
     "data": {
      "image/png": "[encoded data removed]",
      "text/plain": [
       "<Figure size 1152x648 with 4 Axes>"
      ]
     },
     "metadata": {
      "needs_background": "light"
     },
     "output_type": "display_data"
    }
   ],
   "source": [
    "# heatmap for weekeday vs hour of day for customers and subscribers.\n",
    "plt.figure(figsize=(16, 9))\n",
    "graphs = [(1, 'Customer'), (2, 'Subscriber')]\n",
    "for g in graphs:\n",
    "    plt.subplot(1, 2, g[0])\n",
    "    custs = df[df.user_type == g[1]].groupby([\"ride_hour\", \"ride_weekday\"]).size().reset_index()\n",
    "    custs.rename(columns = {0: 'count'}, inplace=True)\n",
    "    custs = custs.pivot(index = 'ride_hour', columns = 'ride_weekday', values = 'count')\n",
    "    sb.heatmap(custs, cmap='Greens')\n",
    "    plt.title(g[1])\n",
    "    plt.xlabel(\"Weekday\")\n",
    "    plt.ylabel(\"Hour of the day\")"
   ]
  },
  {
   "cell_type": "markdown",
   "metadata": {
    "slideshow": {
     "slide_type": "slide"
    }
   },
   "source": [
    "## Conclusions\n",
    "\n",
    "In the exploration of baywheels dataset, I have made following conclusions:\n",
    "\n",
    "- There are two types of users - Customers and Subscribers. These two user groups vary significantly in their usage behaviour. Most usage usually happens around commute hours. And Customer usage peaks during weekends while subscriber usage peaks during weekdays (and especially during commute hours).\n",
    "- Summer months usually have high usage compared to holiday season or winter months. But this was not highly consistent across years speaking to the true Bay area weather!\n",
    "- Clipper card adaption is still very low as most riders prefer paying via App.\n",
    "- Bay area all wheels program is quite recent and it would be interesting to see how the program grows."
   ]
  },
  {
   "cell_type": "markdown",
   "metadata": {
    "slideshow": {
     "slide_type": "notes"
    }
   },
   "source": [
    "> Once you're ready to finish your presentation, check your output by using\n",
    "nbconvert to export the notebook and set up a server for the slides. From the\n",
    "terminal or command line, use the following expression:\n",
    "> > `jupyter nbconvert <file_name>.ipynb --to slides --post serve --template output_toggle`\n",
    "\n",
    "> This should open a tab in your web browser where you can scroll through your\n",
    "presentation. Sub-slides can be accessed by pressing 'down' when viewing its parent\n",
    "slide. Make sure you remove all of the quote-formatted guide notes like this one\n",
    "before you finish your presentation!"
   ]
  },
  {
   "cell_type": "code",
   "execution_count": null,
   "metadata": {},
   "outputs": [],
   "source": []
  }
 ],
 "metadata": {
  "celltoolbar": "Slideshow",
  "kernelspec": {
   "display_name": "Python 3",
   "language": "python",
   "name": "python3"
  },
  "language_info": {
   "codemirror_mode": {
    "name": "ipython",
    "version": 3
   },
   "file_extension": ".py",
   "mimetype": "text/x-python",
   "name": "python",
   "nbconvert_exporter": "python",
   "pygments_lexer": "ipython3",
   "version": "3.7.6"
  }
 },
 "nbformat": 4,
 "nbformat_minor": 2
}
